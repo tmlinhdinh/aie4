{
  "cells": [
    {
      "cell_type": "markdown",
      "metadata": {
        "id": "8ZsP-j7w3zcL"
      },
      "source": [
        "# Prototyping LangChain Application with Production Minded Changes\n",
        "\n",
        "For our first breakout room we'll be exploring how to set-up a LangChain LCEL chain in a way that takes advantage of all of the amazing out of the box production ready features it offers.\n",
        "\n",
        "We'll also explore `Caching` and what makes it an invaluable tool when transitioning to production environments.\n"
      ]
    },
    {
      "cell_type": "markdown",
      "metadata": {
        "id": "PpeN9ND0HKa0"
      },
      "source": [
        "## Task 1: Dependencies and Set-Up\n",
        "\n",
        "Let's get everything we need - we're going to use very specific versioning today to try to mitigate potential env. issues!\n",
        "\n",
        "> NOTE: Dependency issues are a large portion of what you're going to be tackling as you integrate new technology into your work - please keep in mind that one of the things you should be passively learning throughout this course is ways to mitigate dependency issues."
      ]
    },
    {
      "cell_type": "code",
      "execution_count": 1,
      "metadata": {
        "id": "0P4IJUQF27jW"
      },
      "outputs": [],
      "source": [
        "!pip install -qU langchain_openai==0.2.0 langchain_community==0.3.0 langchain==0.3.0 pymupdf==1.24.10 qdrant-client==1.11.2 langchain_qdrant==0.1.4 langsmith==0.1.121"
      ]
    },
    {
      "cell_type": "markdown",
      "metadata": {
        "id": "qYcWLzrmHgDb"
      },
      "source": [
        "We'll need an OpenAI API Key:"
      ]
    },
    {
      "cell_type": "code",
      "execution_count": 3,
      "metadata": {
        "colab": {
          "base_uri": "https://localhost:8080/"
        },
        "id": "GZ8qfrFh_6ed",
        "outputId": "e3500692-331e-4216-8785-eb3587a13de4"
      },
      "outputs": [
        {
          "name": "stdout",
          "output_type": "stream",
          "text": [
            "OpenAI API Key:··········\n"
          ]
        }
      ],
      "source": [
        "import os\n",
        "import getpass\n",
        "\n",
        "os.environ[\"OPENAI_API_KEY\"] = getpass.getpass(\"OpenAI API Key:\")"
      ]
    },
    {
      "cell_type": "markdown",
      "metadata": {
        "id": "piz2DUDuHiSO"
      },
      "source": [
        "And the LangSmith set-up:"
      ]
    },
    {
      "cell_type": "code",
      "execution_count": 4,
      "metadata": {
        "colab": {
          "base_uri": "https://localhost:8080/"
        },
        "id": "wLZX5zowCh-q",
        "outputId": "8f4aeb44-eea7-47a8-cfca-95a8a5ed2852"
      },
      "outputs": [
        {
          "name": "stdout",
          "output_type": "stream",
          "text": [
            "LangChain API Key:··········\n"
          ]
        }
      ],
      "source": [
        "import uuid\n",
        "\n",
        "os.environ[\"LANGCHAIN_PROJECT\"] = f\"AIM Week 8 Assignment 1 - {uuid.uuid4().hex[0:8]}\"\n",
        "os.environ[\"LANGCHAIN_TRACING_V2\"] = \"true\"\n",
        "os.environ[\"LANGCHAIN_ENDPOINT\"] = \"https://api.smith.langchain.com\"\n",
        "os.environ[\"LANGCHAIN_API_KEY\"] = getpass.getpass(\"LangChain API Key:\")"
      ]
    },
    {
      "cell_type": "markdown",
      "metadata": {
        "id": "WmwNTziKHrQm"
      },
      "source": [
        "Let's verify our project so we can leverage it in LangSmith later."
      ]
    },
    {
      "cell_type": "code",
      "execution_count": 5,
      "metadata": {
        "colab": {
          "base_uri": "https://localhost:8080/"
        },
        "id": "T6GZmkVkFcHq",
        "outputId": "ea9572aa-840a-4ab1-c055-6baba8134349"
      },
      "outputs": [
        {
          "name": "stdout",
          "output_type": "stream",
          "text": [
            "AIM Week 8 Assignment 1 - 9229a539\n"
          ]
        }
      ],
      "source": [
        "print(os.environ[\"LANGCHAIN_PROJECT\"])"
      ]
    },
    {
      "cell_type": "markdown",
      "metadata": {
        "id": "un_ppfaAHv1J"
      },
      "source": [
        "## Task 2: Setting up RAG With Production in Mind\n",
        "\n",
        "This is the most crucial step in the process - in order to take advantage of:\n",
        "\n",
        "- Asyncronous requests\n",
        "- Parallel Execution in Chains\n",
        "- And more...\n",
        "\n",
        "You must...use LCEL. These benefits are provided out of the box and largely optimized behind the scenes."
      ]
    },
    {
      "cell_type": "markdown",
      "metadata": {
        "id": "vGi-db23JMAL"
      },
      "source": [
        "### Building our RAG Components: Retriever\n",
        "\n",
        "We'll start by building some familiar components - and showcase how they automatically scale to production features."
      ]
    },
    {
      "cell_type": "markdown",
      "metadata": {
        "id": "zvbT3HSDJemE"
      },
      "source": [
        "Please upload a PDF file to use in this example!"
      ]
    },
    {
      "cell_type": "code",
      "execution_count": 6,
      "metadata": {
        "colab": {
          "base_uri": "https://localhost:8080/",
          "height": 74
        },
        "id": "dvYczNeY91Hn",
        "outputId": "36b4b86a-0b7d-4127-f60f-807699321204"
      },
      "outputs": [
        {
          "data": {
            "text/html": [
              "\n",
              "     <input type=\"file\" id=\"files-ff466bfb-c304-4807-820b-32bc219d63e4\" name=\"files[]\" multiple disabled\n",
              "        style=\"border:none\" />\n",
              "     <output id=\"result-ff466bfb-c304-4807-820b-32bc219d63e4\">\n",
              "      Upload widget is only available when the cell has been executed in the\n",
              "      current browser session. Please rerun this cell to enable.\n",
              "      </output>\n",
              "      <script>// Copyright 2017 Google LLC\n",
              "//\n",
              "// Licensed under the Apache License, Version 2.0 (the \"License\");\n",
              "// you may not use this file except in compliance with the License.\n",
              "// You may obtain a copy of the License at\n",
              "//\n",
              "//      http://www.apache.org/licenses/LICENSE-2.0\n",
              "//\n",
              "// Unless required by applicable law or agreed to in writing, software\n",
              "// distributed under the License is distributed on an \"AS IS\" BASIS,\n",
              "// WITHOUT WARRANTIES OR CONDITIONS OF ANY KIND, either express or implied.\n",
              "// See the License for the specific language governing permissions and\n",
              "// limitations under the License.\n",
              "\n",
              "/**\n",
              " * @fileoverview Helpers for google.colab Python module.\n",
              " */\n",
              "(function(scope) {\n",
              "function span(text, styleAttributes = {}) {\n",
              "  const element = document.createElement('span');\n",
              "  element.textContent = text;\n",
              "  for (const key of Object.keys(styleAttributes)) {\n",
              "    element.style[key] = styleAttributes[key];\n",
              "  }\n",
              "  return element;\n",
              "}\n",
              "\n",
              "// Max number of bytes which will be uploaded at a time.\n",
              "const MAX_PAYLOAD_SIZE = 100 * 1024;\n",
              "\n",
              "function _uploadFiles(inputId, outputId) {\n",
              "  const steps = uploadFilesStep(inputId, outputId);\n",
              "  const outputElement = document.getElementById(outputId);\n",
              "  // Cache steps on the outputElement to make it available for the next call\n",
              "  // to uploadFilesContinue from Python.\n",
              "  outputElement.steps = steps;\n",
              "\n",
              "  return _uploadFilesContinue(outputId);\n",
              "}\n",
              "\n",
              "// This is roughly an async generator (not supported in the browser yet),\n",
              "// where there are multiple asynchronous steps and the Python side is going\n",
              "// to poll for completion of each step.\n",
              "// This uses a Promise to block the python side on completion of each step,\n",
              "// then passes the result of the previous step as the input to the next step.\n",
              "function _uploadFilesContinue(outputId) {\n",
              "  const outputElement = document.getElementById(outputId);\n",
              "  const steps = outputElement.steps;\n",
              "\n",
              "  const next = steps.next(outputElement.lastPromiseValue);\n",
              "  return Promise.resolve(next.value.promise).then((value) => {\n",
              "    // Cache the last promise value to make it available to the next\n",
              "    // step of the generator.\n",
              "    outputElement.lastPromiseValue = value;\n",
              "    return next.value.response;\n",
              "  });\n",
              "}\n",
              "\n",
              "/**\n",
              " * Generator function which is called between each async step of the upload\n",
              " * process.\n",
              " * @param {string} inputId Element ID of the input file picker element.\n",
              " * @param {string} outputId Element ID of the output display.\n",
              " * @return {!Iterable<!Object>} Iterable of next steps.\n",
              " */\n",
              "function* uploadFilesStep(inputId, outputId) {\n",
              "  const inputElement = document.getElementById(inputId);\n",
              "  inputElement.disabled = false;\n",
              "\n",
              "  const outputElement = document.getElementById(outputId);\n",
              "  outputElement.innerHTML = '';\n",
              "\n",
              "  const pickedPromise = new Promise((resolve) => {\n",
              "    inputElement.addEventListener('change', (e) => {\n",
              "      resolve(e.target.files);\n",
              "    });\n",
              "  });\n",
              "\n",
              "  const cancel = document.createElement('button');\n",
              "  inputElement.parentElement.appendChild(cancel);\n",
              "  cancel.textContent = 'Cancel upload';\n",
              "  const cancelPromise = new Promise((resolve) => {\n",
              "    cancel.onclick = () => {\n",
              "      resolve(null);\n",
              "    };\n",
              "  });\n",
              "\n",
              "  // Wait for the user to pick the files.\n",
              "  const files = yield {\n",
              "    promise: Promise.race([pickedPromise, cancelPromise]),\n",
              "    response: {\n",
              "      action: 'starting',\n",
              "    }\n",
              "  };\n",
              "\n",
              "  cancel.remove();\n",
              "\n",
              "  // Disable the input element since further picks are not allowed.\n",
              "  inputElement.disabled = true;\n",
              "\n",
              "  if (!files) {\n",
              "    return {\n",
              "      response: {\n",
              "        action: 'complete',\n",
              "      }\n",
              "    };\n",
              "  }\n",
              "\n",
              "  for (const file of files) {\n",
              "    const li = document.createElement('li');\n",
              "    li.append(span(file.name, {fontWeight: 'bold'}));\n",
              "    li.append(span(\n",
              "        `(${file.type || 'n/a'}) - ${file.size} bytes, ` +\n",
              "        `last modified: ${\n",
              "            file.lastModifiedDate ? file.lastModifiedDate.toLocaleDateString() :\n",
              "                                    'n/a'} - `));\n",
              "    const percent = span('0% done');\n",
              "    li.appendChild(percent);\n",
              "\n",
              "    outputElement.appendChild(li);\n",
              "\n",
              "    const fileDataPromise = new Promise((resolve) => {\n",
              "      const reader = new FileReader();\n",
              "      reader.onload = (e) => {\n",
              "        resolve(e.target.result);\n",
              "      };\n",
              "      reader.readAsArrayBuffer(file);\n",
              "    });\n",
              "    // Wait for the data to be ready.\n",
              "    let fileData = yield {\n",
              "      promise: fileDataPromise,\n",
              "      response: {\n",
              "        action: 'continue',\n",
              "      }\n",
              "    };\n",
              "\n",
              "    // Use a chunked sending to avoid message size limits. See b/62115660.\n",
              "    let position = 0;\n",
              "    do {\n",
              "      const length = Math.min(fileData.byteLength - position, MAX_PAYLOAD_SIZE);\n",
              "      const chunk = new Uint8Array(fileData, position, length);\n",
              "      position += length;\n",
              "\n",
              "      const base64 = btoa(String.fromCharCode.apply(null, chunk));\n",
              "      yield {\n",
              "        response: {\n",
              "          action: 'append',\n",
              "          file: file.name,\n",
              "          data: base64,\n",
              "        },\n",
              "      };\n",
              "\n",
              "      let percentDone = fileData.byteLength === 0 ?\n",
              "          100 :\n",
              "          Math.round((position / fileData.byteLength) * 100);\n",
              "      percent.textContent = `${percentDone}% done`;\n",
              "\n",
              "    } while (position < fileData.byteLength);\n",
              "  }\n",
              "\n",
              "  // All done.\n",
              "  yield {\n",
              "    response: {\n",
              "      action: 'complete',\n",
              "    }\n",
              "  };\n",
              "}\n",
              "\n",
              "scope.google = scope.google || {};\n",
              "scope.google.colab = scope.google.colab || {};\n",
              "scope.google.colab._files = {\n",
              "  _uploadFiles,\n",
              "  _uploadFilesContinue,\n",
              "};\n",
              "})(self);\n",
              "</script> "
            ],
            "text/plain": [
              "<IPython.core.display.HTML object>"
            ]
          },
          "metadata": {},
          "output_type": "display_data"
        },
        {
          "name": "stdout",
          "output_type": "stream",
          "text": [
            "Saving Blueprint-for-an-AI-Bill-of-Rights.pdf to Blueprint-for-an-AI-Bill-of-Rights (4).pdf\n"
          ]
        }
      ],
      "source": [
        "from google.colab import files\n",
        "uploaded = files.upload()"
      ]
    },
    {
      "cell_type": "code",
      "execution_count": 7,
      "metadata": {
        "colab": {
          "base_uri": "https://localhost:8080/",
          "height": 35
        },
        "id": "NtwoVUbaJlbW",
        "outputId": "ad9221f4-fd80-4337-8745-f574be6f7a96"
      },
      "outputs": [
        {
          "data": {
            "application/vnd.google.colaboratory.intrinsic+json": {
              "type": "string"
            },
            "text/plain": [
              "'Blueprint-for-an-AI-Bill-of-Rights (4).pdf'"
            ]
          },
          "execution_count": 7,
          "metadata": {},
          "output_type": "execute_result"
        }
      ],
      "source": [
        "file_path = list(uploaded.keys())[0]\n",
        "file_path"
      ]
    },
    {
      "cell_type": "markdown",
      "metadata": {
        "id": "kucGy3f0Jhdi"
      },
      "source": [
        "We'll define our chunking strategy."
      ]
    },
    {
      "cell_type": "code",
      "execution_count": 8,
      "metadata": {
        "id": "G-DNvNFd8je5"
      },
      "outputs": [],
      "source": [
        "from langchain_text_splitters import RecursiveCharacterTextSplitter\n",
        "\n",
        "text_splitter = RecursiveCharacterTextSplitter(chunk_size=1000, chunk_overlap=100)"
      ]
    },
    {
      "cell_type": "markdown",
      "metadata": {
        "id": "3_zRRNcLKCZh"
      },
      "source": [
        "We'll chunk our uploaded PDF file."
      ]
    },
    {
      "cell_type": "code",
      "execution_count": 9,
      "metadata": {
        "id": "KOh6w9ud-ff6"
      },
      "outputs": [],
      "source": [
        "from langchain_community.document_loaders import PyMuPDFLoader\n",
        "\n",
        "Loader = PyMuPDFLoader\n",
        "loader = Loader(file_path)\n",
        "documents = loader.load()\n",
        "docs = text_splitter.split_documents(documents)\n",
        "for i, doc in enumerate(docs):\n",
        "    doc.metadata[\"source\"] = f\"source_{i}\""
      ]
    },
    {
      "cell_type": "markdown",
      "metadata": {
        "id": "U4XLeqJMKGdQ"
      },
      "source": [
        "#### QDrant Vector Database - Cache Backed Embeddings\n",
        "\n",
        "The process of embedding is typically a very time consuming one - we must, for ever single vector in our VDB as well as query:\n",
        "\n",
        "1. Send the text to an API endpoint (self-hosted, OpenAI, etc)\n",
        "2. Wait for processing\n",
        "3. Receive response\n",
        "\n",
        "This process costs time, and money - and occurs *every single time a document gets converted into a vector representation*.\n",
        "\n",
        "Instead, what if we:\n",
        "\n",
        "1. Set up a cache that can hold our vectors and embeddings (similar to, or in some cases literally a vector database)\n",
        "2. Send the text to an API endpoint (self-hosted, OpenAI, etc)\n",
        "3. Check the cache to see if we've already converted this text before.\n",
        "  - If we have: Return the vector representation\n",
        "  - Else: Wait for processing and proceed\n",
        "4. Store the text that was converted alongside its vector representation in a cache of some kind.\n",
        "5. Return the vector representation\n",
        "\n",
        "Notice that we can shortcut some instances of \"Wait for processing and proceed\".\n",
        "\n",
        "Let's see how this is implemented in the code."
      ]
    },
    {
      "cell_type": "code",
      "execution_count": 10,
      "metadata": {
        "id": "dzPUTCua98b2"
      },
      "outputs": [],
      "source": [
        "from qdrant_client import QdrantClient\n",
        "from qdrant_client.http.models import Distance, VectorParams\n",
        "from langchain_openai.embeddings import OpenAIEmbeddings\n",
        "from langchain.storage import LocalFileStore\n",
        "from langchain_qdrant import QdrantVectorStore\n",
        "from langchain.embeddings import CacheBackedEmbeddings\n",
        "\n",
        "# Typical Embedding Model\n",
        "core_embeddings = OpenAIEmbeddings(model=\"text-embedding-3-small\")\n",
        "\n",
        "# Typical QDrant Client Set-up\n",
        "collection_name = f\"pdf_to_parse_{uuid.uuid4()}\"\n",
        "client = QdrantClient(\":memory:\")\n",
        "client.create_collection(\n",
        "    collection_name=collection_name,\n",
        "    vectors_config=VectorParams(size=1536, distance=Distance.COSINE),\n",
        ")\n",
        "\n",
        "# Adding cache!\n",
        "store = LocalFileStore(\"./cache/\")\n",
        "cached_embedder = CacheBackedEmbeddings.from_bytes_store(\n",
        "    core_embeddings, store, namespace=core_embeddings.model\n",
        ")\n",
        "\n",
        "# Typical QDrant Vector Store Set-up\n",
        "vectorstore = QdrantVectorStore(\n",
        "    client=client,\n",
        "    collection_name=collection_name,\n",
        "    embedding=cached_embedder)\n",
        "vectorstore.add_documents(docs)\n",
        "retriever = vectorstore.as_retriever(search_type=\"mmr\", search_kwargs={\"k\": 3})"
      ]
    },
    {
      "cell_type": "markdown",
      "metadata": {
        "id": "QVZGvmNYLomp"
      },
      "source": [
        "##### ❓ Question #1:\n",
        "\n",
        "What are some limitations you can see with this approach? When is this most/least useful. Discuss with your group!\n",
        "\n",
        "> NOTE: There is no single correct answer here!\n",
        "\n",
        "> ANSWER: We likely would need a lot of space to cache a lot of documents. If we cache a lot of documents, searching for if we've seen a given document before might take a long time. Finally, this method might not be so helpful if the probability of repeated documents being uploaded is low."
      ]
    },
    {
      "cell_type": "markdown",
      "metadata": {
        "id": "vZAOhyb3L9iD"
      },
      "source": [
        "##### 🏗️ Activity #1:\n",
        "\n",
        "Create a simple experiment that tests the cache-backed embeddings."
      ]
    },
    {
      "cell_type": "code",
      "execution_count": 11,
      "metadata": {
        "colab": {
          "base_uri": "https://localhost:8080/"
        },
        "id": "M_Mekif6MDqe",
        "outputId": "d2c73fd0-51ec-43c1-ad9f-44a2eb013275"
      },
      "outputs": [
        {
          "name": "stdout",
          "output_type": "stream",
          "text": [
            "CPU times: user 301 ms, sys: 18.2 ms, total: 319 ms\n",
            "Wall time: 319 ms\n"
          ]
        },
        {
          "data": {
            "text/plain": [
              "['b72a05c704f945d8a38276730cc00e80',\n",
              " '4883c1b57a564ba2ba401827d3da5259',\n",
              " 'b6436f7cbf5147f1a64ac07f1ad7cc9f',\n",
              " '93a05b10243343d79b050d19bb8c65f3',\n",
              " '2bee964e83174689a6c743951da1189e',\n",
              " '787ceee3e0ee4299b53fb7806090592a',\n",
              " 'fcba3c8bd17f439c97bee6c8717613fb',\n",
              " '36bc08dec4d749ed82e93b2e514ceb5d',\n",
              " '6ea72ad1c82f4b05bb65fd4b24197f38',\n",
              " 'e139c85466bf491f8ad1f93e5eb856b9',\n",
              " 'fb115401282c44aca852ce0d1bb938aa',\n",
              " 'e2a58c6051d54063bd44ef3ae1412dfa',\n",
              " '88edd6b878ce4d7ebc9f9609ee43eebe',\n",
              " 'fd3d4a33231f4160801e77fdde715298',\n",
              " '623dde07292243c98d2a788c00fe8274',\n",
              " '8e5360f42a3343ceaee3f5341d62ad58',\n",
              " '98ef25b105e24cb8beace36a5d78d58f',\n",
              " '60922961050b4679b5bae364f65f1499',\n",
              " '4a87db8c884f4f51a4cb533a5cdb11c7',\n",
              " '1d16ba3af1d841b8b6fed6d67ee2952a',\n",
              " '580a518a786a443893cc14aa937070c4',\n",
              " '7bee89d54e7c4abdb9a7c54aed53955c',\n",
              " 'd36870e1f35341958867f3113d92ca37',\n",
              " '0b6fefb8477f45d6918ab693eba6a67e',\n",
              " '342396bf773c4426b64c09990c449ce4',\n",
              " '964797c32adf4a5eb79d67046e3b5f70',\n",
              " '673a714b919f4b6dad728a41f9355b99',\n",
              " 'b90ee9767a644fdb808320bc7b3257b9',\n",
              " 'dd2a056d91754a62b31b03fed4874952',\n",
              " '4708a1a73f28433c9885ce7770069efe',\n",
              " 'cbaff58edb184f208ac5aeaa818c38df',\n",
              " 'f21242f3486b466fbec37080e9622b52',\n",
              " '9ba8e58bf254409db2888127726e8c9e',\n",
              " 'e514c63817d748029d7f8e36f81e4565',\n",
              " '78875a3420594c71bceb729e2b1ba188',\n",
              " 'f4b2fe6a5c474cbdbec7cecf3529ac3c',\n",
              " 'c973654dfdcb42dc80a9e66c008331c0',\n",
              " '69d847ecac1647698cf9ae23d2ee63fe',\n",
              " 'fb34e2cf87b84ff9ac639aa4f077f9d2',\n",
              " 'cad0de72e51448d99a7d1265a8874c0b',\n",
              " '2c077aa6a8a04baea6ac5942c4ec7ccd',\n",
              " 'ab8bf8ec94e14cbe9c4df4af2f28809b',\n",
              " '091cd4cf089247f583b1c5e346cdf392',\n",
              " '4b2e8c7edd1a4e2ab5d453dcc7e1ecb0',\n",
              " 'e82c57c8dc89484f83efbc6a1a241482',\n",
              " 'd07e55d8d0c640ad99049055aff3c319',\n",
              " '17a2cdff6a4b45a0a9d459a88d5587bc',\n",
              " 'e6dc6eb0ce4b483c8e79dce1e6df65d8',\n",
              " 'b9b7eb0d6619460c9eaf4926401e149b',\n",
              " 'd4f897e063c9409b9eaf2ceb41339d7f',\n",
              " '4a1555f4913940ac9c98742c2ccd51a7',\n",
              " 'c920e96f6567489ba56562c25e99cd55',\n",
              " 'e54381742eb24579bd9164158d727623',\n",
              " '7eabe9c1315c4e95827bade49483791a',\n",
              " '48cddba7bd484b6d978a3e3c17c0458a',\n",
              " 'cffd8bc67387448293612a0d3df0f44a',\n",
              " 'cd14310b9101423e842e3c0d03d3d8e0',\n",
              " '867194558c654b298cef848e10b2e5c9',\n",
              " '9edcc6b5212749eda6642975e25767d8',\n",
              " 'c3d720820ee849909e4a52b47caa782e',\n",
              " '7e235abcbc1b417e89de4379992898d2',\n",
              " '64c59e8e740b40eb9a7ee581aaef3923',\n",
              " '200e17e41dab430090560310e60ef52f',\n",
              " '124db6ae9b004383b907cf3b2276600d',\n",
              " '75f133a3647e476485b0b136465e4ba8',\n",
              " '0bf74cf69902483a810e384da0a5b5cc',\n",
              " 'a250925d23d8462493052815ed692514',\n",
              " '5dbf8973ce1c43968d4dc61889bf041d',\n",
              " '33d64a152de045818ae6464a1e3ac4fa',\n",
              " 'a1e791bc8b4a48318f10c4866d8bb708',\n",
              " '4192c66bad47419897d5c8defd1f32ed',\n",
              " '31adf8819d2149e5a6c0f620112f4d25',\n",
              " 'a45bdcda3a054a2c8534f9ff86e46fc3',\n",
              " 'b204a6be1c3747538163b26700317e85',\n",
              " '1b750d8dd80b4791b4a026b4d996d3a3',\n",
              " '2022ff042b4b4a34ba6458dde719fafa',\n",
              " 'cad4c7e20bf44dd887fae4b413194de8',\n",
              " 'bed9613a5b1f4e0b8abb5f8eae2ec6fa',\n",
              " '8f26589ad9084a259b0e561a2ad119b9',\n",
              " '564709589e7e4e2485fee5f85caf4aad',\n",
              " 'a31472b8cf0d4facb5e3451cc871144a',\n",
              " '3198b2e75dc646f5a8f43804fd2e4405',\n",
              " 'a8c79c809e7f4db1945e30a8c9d9216c',\n",
              " '2dbc3c8f4b2049f690ae601a5113f654',\n",
              " '424a6d88b4104cd6b566c9492ef3b8bb',\n",
              " '5cd4cb76dbf246e0bb1e95c54618a0f1',\n",
              " 'f6c64f0c0d514cabb9b7476d38cdcffb',\n",
              " '79697d8da2234001880c8c3a19c3009c',\n",
              " '3f152ed9a1534f4983cc0b062c17598e',\n",
              " '4a9c99ffa54a424895d07e397738a8bb',\n",
              " 'b30d3a047ff24acaaf69d773864deefc',\n",
              " 'c1bd643b144544ebaaaba57c7caf000c',\n",
              " '6480eeec5ea24767b99053e0a82f31fa',\n",
              " 'f7ea45b8952b44e1b3255153c9d2cad1',\n",
              " 'ec042c27cf8d4d639f3ab991cb46e018',\n",
              " '2990832e33634f789b8c97fd0f38a880',\n",
              " '3a2923143159447fa81f35f028143b41',\n",
              " '68c16226695e4b129a55f3ca67c39c80',\n",
              " 'c510feb84de449b1bb5373b71670e6fb',\n",
              " '3b80f5db31d74dc7ac905d8f0ae1336a',\n",
              " '72464724da974b97902ab0ccf412d753',\n",
              " '78ac74da10994a5d960b595e446ed210',\n",
              " 'd3e362bb117247abad6cef53d56126d6',\n",
              " '513572e025ae418da89193e1f434dbd2',\n",
              " '759f908f820d4998a8e560243e3dd51e',\n",
              " 'c45cdfd47ac749aaa415e23f9901c5cd',\n",
              " 'd2a1322ba18e4333a1ac143211258fa9',\n",
              " 'ef96c21aca8f499b904a32e1d9f6f6e5',\n",
              " '3638d00fb3b24032977481912dd9e9e8',\n",
              " '29df939080914c29b34f4515e33b113d',\n",
              " '1b33b0545df648b9a59826c8d768bd6f',\n",
              " '8fd3809667584e649bc1d5c9ad0e55ef',\n",
              " 'd591b9a8392a4252acf9c7613eb542b6',\n",
              " '8b0d7b9353184f82ad3c80e337bdc20f',\n",
              " 'a6770abd258c4cdcb1db1a26e1e99c70',\n",
              " 'e764cdd41be743889e1ae0e167f4a216',\n",
              " 'e1e7472c0c954a7e849c894a4b97aa27',\n",
              " '7c246d154a134afab5f93c0027820375',\n",
              " '233990a3e9ba4be08b75c20ea9eae21f',\n",
              " 'd1531978d39b4f65bb9ef1588cb2fccd',\n",
              " '156f953863e540e19d95bce93eabd7d0',\n",
              " '96b0c63530834259a9eb7b119a5cc330',\n",
              " '46d8cd81e9b84fb39974e227013d1f09',\n",
              " 'c4db965e2ebf48ac87db55e7da8ed83b',\n",
              " 'e5ce71b3c8e9497da379d0c3b7aa5bb6',\n",
              " '0a901a4799ba479d81740192d44e8469',\n",
              " '3bb5fd61c2c3440bb9fb943cecbc1c4f',\n",
              " '9731abee318043b7baea9b27f40575be',\n",
              " '44642e807b1b43d4886e267974e37c3e',\n",
              " '4c5d61a0278249509511660152da7e43',\n",
              " '98ce9e86d2334f82b609c2b8114919c2',\n",
              " '301605d4d69a4a879be174c950c91499',\n",
              " '7fdd91450e2147918abaf99f8611a720',\n",
              " '42026be2240d451a9290316d9db6e08c',\n",
              " '5de8f20ab3914c048e8fa996880f2d14',\n",
              " 'c08895731d02461d890c56be380ed132',\n",
              " '13c05a73e2c6447fb7d8bfe0d96aa646',\n",
              " '98ba67e5106f4b5bb9480ba68ca5c508',\n",
              " 'c9dfd53421d34dc88f62155ee5fc547e',\n",
              " '75d7ddd335354e55a0aade73fb9eab61',\n",
              " 'c82a55be9980441eaa542b7b3fdcbe40',\n",
              " 'b399839362f14a23ba4442e95373b445',\n",
              " '7b7ac6ee576a4bf69d68b76da99f4661',\n",
              " 'feef1d10475e4fd8b32f4a93930f91b5',\n",
              " 'c0c86a6341a4488ca52403d183459321',\n",
              " '82b4993ec27b4f17b517a34607d52556',\n",
              " 'b6b671bfc9c94bc3a89b480f35df3e9a',\n",
              " 'cf41a94a9051421ab504dc9c7e13b759',\n",
              " '3d53ee9b4e9849c6bb0acdc0e049f071',\n",
              " 'ae81ce341523481d961402c97462fc11',\n",
              " 'aee642bc4687421497d506eb1a83bae9',\n",
              " 'cd556ae1759149d0bd1fd2b323789e42',\n",
              " '637469c4e49448ba9f08ac041569250f',\n",
              " '7cdc059676ea46818f145f5a2de5324f',\n",
              " '10cf61adb1d44210b04135485374c63f',\n",
              " 'c3bc5042ff9b41089596d1ce222d33e7',\n",
              " 'd34f4aa538164a0db025dd4afddb526e',\n",
              " '9d3e9e964ac64dc7b92be1c2e39842b0',\n",
              " '0d310cbb2e404c40b55a45899570eb17',\n",
              " '21895945cd054f0e89a78461987bde9c',\n",
              " '98a26179c4254fbe956b6d009d4ca0d6',\n",
              " 'ebce27b4ec89453a97f449ab82b4be58',\n",
              " 'df3b29c0a2694b3d955950836c1d97f6',\n",
              " '42ec46c56fd44a14bd6790f9bf526364',\n",
              " '6d63e3a5ab594e6c845de4c78b54f80c',\n",
              " '06fd081d658b4b5a8e71dfba2009153e',\n",
              " '826c6715352248f389598de65c62b3e8',\n",
              " 'afe9969a6c50409e95afc87a6690f2cb',\n",
              " 'e9352926e1e041dd9037ee0f0478cc4b',\n",
              " 'a83bbca3454d4c4294e68f4e8d02eae6',\n",
              " '980ec48ccfd84c6c94e304d57d3cdf65',\n",
              " '3921f1edb2d8459c87ece1250ae07c7e',\n",
              " 'c59ec75250864ea79d7bc22f391d124f',\n",
              " '2d5e117891104373aa74e46f7bb50e94',\n",
              " '5c71ec353f01447099ce0711eea4ac6d',\n",
              " '707057514e9a455f8da2c1a7a20bd9d8',\n",
              " '27bc6d0cc1334415816cc3b15037a222',\n",
              " '7d8e411ed6c3442297a7b1174567abcb',\n",
              " '39ca16cba4574171b0ea3e0ff4f9ce96',\n",
              " '0f1e60f97af44b7a96e3ae5cb4dceb95',\n",
              " '3d37f6e3e74c428287d26d2d03d92654',\n",
              " '68dde58b9b5144f9aa9a50e82851eff4',\n",
              " 'e814c80c6e4e4017b69a32e1cde4eb99',\n",
              " '3029818651be4b608a3da521827fba39',\n",
              " 'f730b734d5a04820bff17e3a02e50128',\n",
              " '3b0150bad2b842159e6da0260017d99a',\n",
              " '7b4ce3db8fab40bfa798572ecc49d2cc',\n",
              " '804c03217a654b65b25dbfb93a40349e',\n",
              " '1aa5a6e872c94e1988a70468a008860c',\n",
              " '20712d85bc34449e8ba2d6e2c360fb57',\n",
              " '760766f0eadc4f4aa599cf667b55ff37',\n",
              " '355a43d4ca8a4413b4f12c685ee950b7',\n",
              " 'dec8b93e8ba54ceb928b41a4229dfea2',\n",
              " '614d88a9cf724d23a25af7aa64c07b04',\n",
              " '6ff325bdb4114e1290b61de196703206',\n",
              " 'c276b946f31840e2baf51b0e88f56eb6',\n",
              " 'c4dbc48449d5429bad2ee160b2e5f560',\n",
              " 'f27dad26692e49759518d40b8bb11dcb',\n",
              " '29b3dc4cd8c34eeda23a9686594b4481',\n",
              " 'bc2f8a23b5b54158825c173fb07c8f27',\n",
              " '25727f0c5d7d4ccd83327cbce418c529',\n",
              " 'c454efb3ae534c4fab9da3893b6c464a',\n",
              " '0485ac87ba9044d2ac4f9d7c2727f870',\n",
              " '4026320be82e4e96a71c0d24c07c9216',\n",
              " '810e09c88a544222a67e6c8fd9f908e1',\n",
              " '01e901ea0ce64b2382a1d7bfb6c96584',\n",
              " 'dbcac2eff0ed4a9cac8e32ce9408bcda',\n",
              " '5a62145ba1334df8b3a56f8d45d86359',\n",
              " 'b6a43fcb571b4d5b86f9501c33ff0d6a',\n",
              " '89d283e2f9f3434c936443b9af3913a4',\n",
              " '7ed00fc90add45d586d95af900d9fb37',\n",
              " '28e55881aac94636839df4ae096e5eba',\n",
              " '18a51402b93b44899013e6e398655878',\n",
              " '4fd3b894abbc404591f78c6cfb1bd7ee',\n",
              " '1d604fb7b5ae4be39870121ba6e765a6',\n",
              " '291483e8e5474cee96cdab2e2b3572f1',\n",
              " '267e06e47b934af4bd9ad762b265cbfd',\n",
              " '398d34fe9408439e803ff467cf93554a',\n",
              " 'ef3eb7da51624869837d863cec3de484',\n",
              " 'a24f89e6a27e413dbc9d9d151c18884a',\n",
              " '7cfce406d45a4e258c6cb49a98869eb9',\n",
              " '0c1a78b1bf7d4901ae9e970f5a83016a',\n",
              " 'bdec45128ac54327add1b514fb3b2d4b',\n",
              " '4ec1835096cb456ea98b1c25eeb25c44',\n",
              " 'b2a21e780cd148718074128129b3d336',\n",
              " '1207f13455a64a6d9c03965aabe42adb',\n",
              " '76237fe80e14442d9c3df8fde59bf2ce',\n",
              " 'dd06728158e9418685379a6f63c04f85',\n",
              " 'c044682e4fb14eb2a5ac9bc6563be759',\n",
              " '961ef7fa0ebc4d7ca8c6f91a5c6058a4',\n",
              " '987d512788494ab3bf276bd11aa73998',\n",
              " '43526b634c56469f8dec119dcc1d7aee',\n",
              " 'b7ee2d6ae9ae4effa77d411a37991c47',\n",
              " '54fd43323f3e49ddae13423790829440',\n",
              " 'b0e9b596635a445fbdadd00bf2b7f312',\n",
              " 'fca704ab89614752a2b7acc05c4ab698',\n",
              " '86a3cb53681a4d1ea89eb5c512929aa3',\n",
              " 'ba3654ecf34c462fb236d790c7550b14',\n",
              " '8f321329e4a64fe28a28a71d57cfcb34',\n",
              " 'e8329778b9674102b4a9547149e7cf86',\n",
              " '1b590276147c4bb590972cedc0c5d547',\n",
              " '3f287dc7ba444bac83070d744644d1ec',\n",
              " '1acf578e7d9b47b699a0c2702e5bd907',\n",
              " 'df0cf72af04540bbbaa37e6c38a974ee',\n",
              " '448aecf3573a446ca94d033436b97960',\n",
              " '1a54ea74943b44b081257ee5f2998624',\n",
              " '579a2f193dcf42529188f6113296b5a5',\n",
              " '239c603f68404240b3224f3966dcbf41',\n",
              " '6399f7effe554bd7b6a8d8058c21ce27',\n",
              " '3bfe75b6eb2a49f29f77b5fd6b73a172',\n",
              " 'f098a96fee2c425d96f46806e112d08b',\n",
              " '51d19bf0d004476a82ce3f59620cbc93',\n",
              " '6fa56f538b9a4b50ae7fc126f3cf8799',\n",
              " '11a5a0aa7e0a43278699f93b83f7e01c',\n",
              " 'b22573d34e194b57aa5dc6f165ad2e4a',\n",
              " '1e524bada62943969dd4142051eeb171',\n",
              " '73f7782a15a94bbf81e33e5ec7af1bcc',\n",
              " '85252e0cb4a0476c89ff8f0777dc2683',\n",
              " 'afeb6a299dce471b98360b18f8540c2b',\n",
              " '5cf451d4d975408cad02b19d7f4845b3',\n",
              " '8991b09f2562423eaf442af27b6efe77',\n",
              " '03d5acd211bc49ce85b70a1ae7a3c3e3',\n",
              " '74e314b24f2f48249ff13638916e023b',\n",
              " 'c9ee7bf149d845709f09e7be9d5629f3',\n",
              " 'dfddd25de60d481d9aa310f6aae62283',\n",
              " 'b02e4b1fb1a74dc0855f343ba78560ad',\n",
              " '2f422210492c4c678a660098ac60cac0',\n",
              " '85b604a6a77d499b8b048aa8cfa4b048',\n",
              " '1e06eed0fb834605ac114631b7a89edb',\n",
              " 'aee664ade8f04bfdb725e80d7e96bba5',\n",
              " '471b6264e63a4928b89da183cb7fb629']"
            ]
          },
          "execution_count": 11,
          "metadata": {},
          "output_type": "execute_result"
        }
      ],
      "source": [
        "### YOUR CODE HERE\n",
        "%%time\n",
        "vectorstore.add_documents(docs)\n",
        "# When I try to create the vector store again, it's much faster since it does not need to re-compute any embeddings."
      ]
    },
    {
      "cell_type": "markdown",
      "metadata": {
        "id": "DH0i-YovL8kZ"
      },
      "source": [
        "### Augmentation\n",
        "\n",
        "We'll create the classic RAG Prompt and create our `ChatPromptTemplates` as per usual."
      ]
    },
    {
      "cell_type": "code",
      "execution_count": 12,
      "metadata": {
        "id": "WchaoMEx9j69"
      },
      "outputs": [],
      "source": [
        "from langchain_core.prompts import ChatPromptTemplate\n",
        "\n",
        "rag_system_prompt_template = \"\"\"\\\n",
        "You are a helpful assistant that uses the provided context to answer questions. Never reference this prompt, or the existance of context.\n",
        "\"\"\"\n",
        "\n",
        "rag_message_list = [\n",
        "    {\"role\" : \"system\", \"content\" : rag_system_prompt_template},\n",
        "]\n",
        "\n",
        "rag_user_prompt_template = \"\"\"\\\n",
        "Question:\n",
        "{question}\n",
        "Context:\n",
        "{context}\n",
        "\"\"\"\n",
        "\n",
        "chat_prompt = ChatPromptTemplate.from_messages([\n",
        "    (\"system\", rag_system_prompt_template),\n",
        "    (\"human\", rag_user_prompt_template)\n",
        "])"
      ]
    },
    {
      "cell_type": "markdown",
      "metadata": {
        "id": "UQKnByVWMpiK"
      },
      "source": [
        "### Generation\n",
        "\n",
        "Like usual, we'll set-up a `ChatOpenAI` model - and we'll use the fan favourite `gpt-4o-mini` for today.\n",
        "\n",
        "However, we'll also implement...a PROMPT CACHE!\n",
        "\n",
        "In essence, this works in a very similar way to the embedding cache - if we've seen this prompt before, we just use the stored response."
      ]
    },
    {
      "cell_type": "code",
      "execution_count": 13,
      "metadata": {
        "id": "fOXKkaY7ABab"
      },
      "outputs": [],
      "source": [
        "from langchain_core.globals import set_llm_cache\n",
        "from langchain_openai import ChatOpenAI\n",
        "\n",
        "chat_model = ChatOpenAI(model=\"gpt-4o-mini\")"
      ]
    },
    {
      "cell_type": "markdown",
      "metadata": {
        "id": "mhv8IqZoM9cY"
      },
      "source": [
        "Setting up the cache can be done as follows:"
      ]
    },
    {
      "cell_type": "code",
      "execution_count": 14,
      "metadata": {
        "id": "thqam26gAyzN"
      },
      "outputs": [],
      "source": [
        "from langchain_core.caches import InMemoryCache\n",
        "\n",
        "set_llm_cache(InMemoryCache())"
      ]
    },
    {
      "cell_type": "markdown",
      "metadata": {
        "id": "CvxEovcEM_oA"
      },
      "source": [
        "##### ❓ Question #2:\n",
        "\n",
        "What are some limitations you can see with this approach? When is this most/least useful. Discuss with your group!\n",
        "\n",
        "> NOTE: There is no single correct answer here!\n",
        "> ANSWER: Similarly, we might need a lot of space to cache all users' queries. If we cache a large set of users' queries, searching for the one we've seen before could take a long time. Keeping a record of users' queries can raise privacy concerns. Lastly, this method is only usefuly if the probability of repeated user's query is high (exact match), this method is not useful if we rarely find a repeated query."
      ]
    },
    {
      "cell_type": "markdown",
      "metadata": {
        "id": "3iCMjVYKNEeV"
      },
      "source": [
        "##### 🏗️ Activity #2:\n",
        "\n",
        "Create a simple experiment that tests the cache-backed embeddings."
      ]
    },
    {
      "cell_type": "code",
      "execution_count": 15,
      "metadata": {
        "id": "LeMie8fkN0_-"
      },
      "outputs": [],
      "source": [
        "from operator import itemgetter\n",
        "from langchain.schema import StrOutputParser"
      ]
    },
    {
      "cell_type": "code",
      "execution_count": 16,
      "metadata": {
        "id": "qBfLM2WdOCuu"
      },
      "outputs": [],
      "source": [
        "### YOUR CODE HERE\n",
        "rag_chain = (\n",
        "    {\"context\": itemgetter(\"question\") | retriever, \"question\": itemgetter(\"question\")}\n",
        "    | chat_prompt | chat_model | StrOutputParser()\n",
        ")"
      ]
    },
    {
      "cell_type": "code",
      "execution_count": 17,
      "metadata": {
        "colab": {
          "base_uri": "https://localhost:8080/",
          "height": 178
        },
        "id": "QT5GfmsHNFqP",
        "outputId": "645cb9ed-d43a-4970-a3b5-630e925780c0"
      },
      "outputs": [
        {
          "name": "stdout",
          "output_type": "stream",
          "text": [
            "CPU times: user 379 ms, sys: 158 ms, total: 537 ms\n",
            "Wall time: 2.75 s\n"
          ]
        },
        {
          "data": {
            "application/vnd.google.colaboratory.intrinsic+json": {
              "type": "string"
            },
            "text/plain": [
              "\"AI can be used for a variety of applications, including:\\n\\n1. **Healthcare**: AI technologies assist in medical diagnostics, clinical decision-making, health risk assessments, and drug addiction risk assessments. They also support wellness applications and insurance care allocation.\\n\\n2. **Financial Services**: AI algorithms play a role in loan allocation, credit scoring, financial system access determinations, and risk assessments. They can also automate interest rate determinations and apply penalties in financial systems.\\n\\n3. **Surveillance and Management**: AI can be integrated into surveillance systems and management frameworks to enhance decision-making processes.\\n\\n4. **Predictive Models**: AI can utilize algorithms to forecast outcomes in various domains, which supports proactive decision-making.\\n\\n5. **Transparency and Trust**: AI systems can be designed to engage with stakeholders, ensure transparency, and build public trust through participatory design and explanations tailored for relevant audiences.\\n\\nThese applications highlight AI's potential to improve efficiency, accuracy, and decision-making in critical sectors while also emphasizing the importance of ethical considerations and stakeholder engagement.\""
            ]
          },
          "execution_count": 17,
          "metadata": {},
          "output_type": "execute_result"
        }
      ],
      "source": [
        "%%time\n",
        "rag_chain.invoke({\"question\": \"What can we use AI for?\"})\n",
        "# The first time it took 537ms"
      ]
    },
    {
      "cell_type": "code",
      "execution_count": 18,
      "metadata": {
        "colab": {
          "base_uri": "https://localhost:8080/",
          "height": 178
        },
        "id": "8XfMsewWN-Dy",
        "outputId": "6557058e-60b4-46da-8179-7839feba00a8"
      },
      "outputs": [
        {
          "name": "stdout",
          "output_type": "stream",
          "text": [
            "CPU times: user 58.3 ms, sys: 15.4 ms, total: 73.7 ms\n",
            "Wall time: 124 ms\n"
          ]
        },
        {
          "data": {
            "application/vnd.google.colaboratory.intrinsic+json": {
              "type": "string"
            },
            "text/plain": [
              "\"AI can be used for a variety of applications, including:\\n\\n1. **Healthcare**: AI technologies assist in medical diagnostics, clinical decision-making, health risk assessments, and drug addiction risk assessments. They also support wellness applications and insurance care allocation.\\n\\n2. **Financial Services**: AI algorithms play a role in loan allocation, credit scoring, financial system access determinations, and risk assessments. They can also automate interest rate determinations and apply penalties in financial systems.\\n\\n3. **Surveillance and Management**: AI can be integrated into surveillance systems and management frameworks to enhance decision-making processes.\\n\\n4. **Predictive Models**: AI can utilize algorithms to forecast outcomes in various domains, which supports proactive decision-making.\\n\\n5. **Transparency and Trust**: AI systems can be designed to engage with stakeholders, ensure transparency, and build public trust through participatory design and explanations tailored for relevant audiences.\\n\\nThese applications highlight AI's potential to improve efficiency, accuracy, and decision-making in critical sectors while also emphasizing the importance of ethical considerations and stakeholder engagement.\""
            ]
          },
          "execution_count": 18,
          "metadata": {},
          "output_type": "execute_result"
        }
      ],
      "source": [
        "%%time\n",
        "rag_chain.invoke({\"question\": \"What can we use AI for?\"})\n",
        "# The second time using the exact same query, it took 73.7ms"
      ]
    },
    {
      "cell_type": "markdown",
      "metadata": {
        "id": "zyPnNWb9NH7W"
      },
      "source": [
        "## Task 3: RAG LCEL Chain\n",
        "\n",
        "We'll also set-up our typical RAG chain using LCEL.\n",
        "\n",
        "However, this time: We'll specifically call out that the `context` and `question` halves of the first \"link\" in the chain are executed *in parallel* by default!\n",
        "\n",
        "Thanks, LCEL!"
      ]
    },
    {
      "cell_type": "code",
      "execution_count": 19,
      "metadata": {
        "id": "3JNvSsx_CEtI"
      },
      "outputs": [],
      "source": [
        "from operator import itemgetter\n",
        "from langchain_core.runnables.passthrough import RunnablePassthrough\n",
        "\n",
        "retrieval_augmented_qa_chain = (\n",
        "        {\"context\": itemgetter(\"question\") | retriever, \"question\": itemgetter(\"question\")}\n",
        "        | RunnablePassthrough.assign(context=itemgetter(\"context\"))\n",
        "        | chat_prompt | chat_model\n",
        "    )"
      ]
    },
    {
      "cell_type": "markdown",
      "metadata": {
        "id": "Sx--wVctNdGa"
      },
      "source": [
        "Let's test it out!"
      ]
    },
    {
      "cell_type": "code",
      "execution_count": 21,
      "metadata": {
        "colab": {
          "base_uri": "https://localhost:8080/"
        },
        "id": "43uQegbnDQKP",
        "outputId": "9c990ce5-ef08-4f1c-9a0f-364485720e22"
      },
      "outputs": [
        {
          "data": {
            "text/plain": [
              "AIMessage(content='1. Title of the document is \"Blueprint for an AI Bill of Rights.\"\\n2. The document is formatted as a PDF version 1.6.\\n3. The total number of pages in the document is 73.\\n4. The document was created using Adobe Illustrator 26.3 on a Macintosh.\\n5. It was produced by iLovePDF.\\n6. The document\\'s creation date is September 20, 2022.\\n7. The last modification date of the document is October 3, 2022.\\n8. The document includes a \"Table of Contents.\"\\n9. The first section is titled \"FROM PRINCIPLES TO PRACTICE: A TECHNICAL COMPANION TO THE BLUEPRINT FOR AN AI BILL OF RIGHTS.\"\\n10. The document contains guidelines for \"USING THIS TECHNICAL COMPANION.\"\\n11. There is a section focused on \"SAFE AND EFFECTIVE SYSTEMS.\"\\n12. The document addresses \"ALGORITHMIC DISCRIMINATION PROTECTIONS.\"\\n13. It includes information on \"DATA PRIVACY.\"\\n14. The document emphasizes the need for \"NOTICE AND EXPLANATION.\"\\n15. \"HUMAN ALTERNATIVES, CONSIDERATION, AND FALLBACK\" is another key section.\\n16. An appendix is included in the document.\\n17. The appendix features \"EXAMPLES OF AUTOMATED SYSTEMS.\"\\n18. The document highlights the importance of \"LISTENING TO THE AMERICAN PEOPLE.\"\\n19. There are endnotes provided for reference.\\n20. The document has a specific focus on AI rights.\\n21. It aims to establish principles for ethical AI development.\\n22. The content is structured to guide practical applications of the principles.\\n23. It emphasizes stakeholder engagement in the development of AI systems.\\n24. The document calls for transparency in AI systems.\\n25. It suggests extensive testing for AI systems before deployment.\\n26. The document advocates for human oversight in automated systems.\\n27. It raises concerns about potential biases in AI algorithms.\\n28. The document aims to protect individuals from discriminatory practices in AI.\\n29. It discusses the importance of user data protection.\\n30. The document includes specific recommendations for AI developers.\\n31. It addresses the need for accountability in AI deployment.\\n32. The document discusses the role of public input in shaping AI policies.\\n33. It mentions collaboration with various organizations and stakeholders.\\n34. The document is intended for policymakers and AI practitioners.\\n35. It provides a framework for evaluating AI systems.\\n36. The document emphasizes the need for continuous improvement in AI technologies.\\n37. It discusses the implications of AI on civil liberties.\\n38. The document aims to promote fairness in AI applications.\\n39. It addresses the potential for AI to reinforce existing inequalities.\\n40. The document encourages interdisciplinary approaches to AI governance.\\n41. It advocates for clear communication of AI capabilities to users.\\n42. The document includes case studies or examples in the appendix.\\n43. It is a resource for understanding AI-related rights and responsibilities.\\n44. The document is likely intended to influence future legislation on AI.\\n45. It highlights the importance of ethical considerations in AI design.\\n46. The document may serve as a reference for educational purposes.\\n47. It encourages a proactive approach to AI regulation.\\n48. The document includes input from a variety of sectors, including technology and labor.\\n49. It seeks to build public trust in AI technologies.\\n50. The document reflects a growing concern for ethical standards in AI development.', additional_kwargs={'refusal': None}, response_metadata={'token_usage': {'completion_tokens': 697, 'prompt_tokens': 1022, 'total_tokens': 1719, 'completion_tokens_details': {'audio_tokens': None, 'reasoning_tokens': 0}, 'prompt_tokens_details': {'audio_tokens': None, 'cached_tokens': 0}}, 'model_name': 'gpt-4o-mini-2024-07-18', 'system_fingerprint': 'fp_f85bea6784', 'finish_reason': 'stop', 'logprobs': None}, id='run-e6697aea-1291-49d1-b13b-b6167a6304bb-0', usage_metadata={'input_tokens': 1022, 'output_tokens': 697, 'total_tokens': 1719})"
            ]
          },
          "execution_count": 21,
          "metadata": {},
          "output_type": "execute_result"
        }
      ],
      "source": [
        "retrieval_augmented_qa_chain.invoke({\"question\" : \"Write 50 things about this document!\"})"
      ]
    },
    {
      "cell_type": "markdown",
      "metadata": {
        "id": "0tYAvHrJNecy"
      },
      "source": [
        "##### 🏗️ Activity #3:\n",
        "\n",
        "Show, through LangSmith, the different between a trace that is leveraging cache-backed embeddings and LLM calls - and one that isn't.\n",
        "\n",
        "Post screenshots in the notebook!"
      ]
    },
    {
      "cell_type": "markdown",
      "metadata": {},
      "source": [
        "## With Cache\n",
        "![With Cache](with_cache.png)\n",
        "\n",
        "## Without Cache\n",
        "![No Cache](no_cache.png)"
      ]
    },
    {
      "cell_type": "code",
      "execution_count": null,
      "metadata": {
        "id": "8d0k4685UOOV"
      },
      "outputs": [],
      "source": [
        "from qdrant_client import QdrantClient\n",
        "from qdrant_client.http.models import Distance, VectorParams\n",
        "from langchain_openai.embeddings import OpenAIEmbeddings\n",
        "from langchain.storage import LocalFileStore\n",
        "from langchain_qdrant import QdrantVectorStore\n",
        "from langchain.embeddings import CacheBackedEmbeddings\n",
        "\n",
        "# Typical Embedding Model\n",
        "core_embeddings = OpenAIEmbeddings(model=\"text-embedding-3-small\")\n",
        "\n",
        "# Typical QDrant Client Set-up\n",
        "collection_name = f\"pdf_to_parse_{uuid.uuid4()}\"\n",
        "client = QdrantClient(\":memory:\")\n",
        "client.create_collection(\n",
        "    collection_name=collection_name,\n",
        "    vectors_config=VectorParams(size=1536, distance=Distance.COSINE),\n",
        ")\n",
        "\n",
        "# Typical QDrant Vector Store Set-up\n",
        "vectorstore = QdrantVectorStore(\n",
        "    client=client,\n",
        "    collection_name=collection_name,\n",
        "    embedding=core_embeddings)\n",
        "vectorstore.add_documents(docs)\n",
        "retriever = vectorstore.as_retriever(search_type=\"mmr\", search_kwargs={\"k\": 3})"
      ]
    },
    {
      "cell_type": "code",
      "execution_count": null,
      "metadata": {
        "id": "YARwHz-5VL8b"
      },
      "outputs": [],
      "source": [
        "from operator import itemgetter\n",
        "from langchain_core.runnables.passthrough import RunnablePassthrough\n",
        "\n",
        "retrieval_augmented_qa_chain = (\n",
        "        {\"context\": itemgetter(\"question\") | retriever, \"question\": itemgetter(\"question\")}\n",
        "        | RunnablePassthrough.assign(context=itemgetter(\"context\"))\n",
        "        | chat_prompt | chat_model\n",
        "    )"
      ]
    },
    {
      "cell_type": "code",
      "execution_count": 13,
      "metadata": {
        "colab": {
          "base_uri": "https://localhost:8080/"
        },
        "id": "BXZlGJACUYjK",
        "outputId": "9160b36b-0262-4f78-f7cd-7ffd2beabf1e"
      },
      "outputs": [
        {
          "data": {
            "text/plain": [
              "AIMessage(content='1. The document is titled \"Blueprint for an AI Bill of Rights.\"\\n2. It consists of 73 pages in total.\\n3. It was created using Adobe Illustrator 26.3 on a Macintosh.\\n4. The document was produced by iLovePDF.\\n5. The creation date of the document is September 20, 2022.\\n6. The last modification date is October 3, 2022.\\n7. It is formatted as PDF 1.6.\\n8. The document includes a technical companion section.\\n9. The table of contents outlines various sections.\\n10. One section focuses on \"Safe and Effective Systems.\"\\n11. There are protections against algorithmic discrimination.\\n12. Data privacy is a key topic discussed in the document.\\n13. The document emphasizes the importance of notice and explanation.\\n14. Human alternatives and considerations are included in the discussions.\\n15. An appendix provides additional information.\\n16. The document gives examples of automated systems.\\n17. It mentions the importance of listening to the American people.\\n18. The page content includes a list of various organizations and entities.\\n19. The document aims to establish guidelines for AI usage.\\n20. It addresses concerns about ethical AI deployment.\\n21. The document emphasizes transparency in AI systems.\\n22. It advocates for accountability in AI technologies.\\n23. Recommendations for independent evaluations are included.\\n24. The document promotes the need for clear communication of results.\\n25. It suggests that evaluations should be in plain language.\\n26. The document appears to be targeted at policymakers and stakeholders.\\n27. It highlights the significance of public input in AI regulations.\\n28. The content likely discusses the balance between innovation and rights.\\n29. The document is organized into structured sections for clarity.\\n30. It is part of ongoing discussions about AI governance.\\n31. The document’s metadata indicates it is from various sources.\\n32. The document appears to be a collaborative effort.\\n33. It could serve as a reference for future regulations.\\n34. The focus on human alternatives suggests a user-centered approach.\\n35. The document may include case studies or real-world examples.\\n36. The concept of algorithmic discrimination is critical in AI discussions.\\n37. The document might address biases present in AI systems.\\n38. The section on data privacy likely outlines user rights.\\n39. There may be guidelines for responsible data handling.\\n40. The document could influence legislative action on AI.\\n41. It likely discusses the implications of AI on civil rights.\\n42. The document may explore the role of technology in society.\\n43. It suggests a framework for ethical AI development.\\n44. The references to organizations indicate a broad stakeholder engagement.\\n45. The document aims to create a safer digital environment.\\n46. It may include recommendations for best practices in AI.\\n47. The document could help in raising public awareness about AI issues.\\n48. It suggests a proactive approach to AI regulation.\\n49. The focus on listening to the public indicates a democratic process.\\n50. The overall goal is to align AI development with human rights and values.', additional_kwargs={'refusal': None}, response_metadata={'token_usage': {'completion_tokens': 610, 'prompt_tokens': 893, 'total_tokens': 1503, 'completion_tokens_details': {'audio_tokens': None, 'reasoning_tokens': 0}, 'prompt_tokens_details': {'audio_tokens': None, 'cached_tokens': 0}}, 'model_name': 'gpt-4o-mini-2024-07-18', 'system_fingerprint': 'fp_f85bea6784', 'finish_reason': 'stop', 'logprobs': None}, id='run-2d263b33-196a-44ce-bb0b-9036030a77cf-0', usage_metadata={'input_tokens': 893, 'output_tokens': 610, 'total_tokens': 1503})"
            ]
          },
          "execution_count": 13,
          "metadata": {},
          "output_type": "execute_result"
        }
      ],
      "source": [
        "retrieval_augmented_qa_chain.invoke({\"question\" : \"Write 50 things about this document!\"})"
      ]
    }
  ],
  "metadata": {
    "colab": {
      "provenance": []
    },
    "kernelspec": {
      "display_name": "Python 3",
      "name": "python3"
    },
    "language_info": {
      "name": "python"
    }
  },
  "nbformat": 4,
  "nbformat_minor": 0
}
